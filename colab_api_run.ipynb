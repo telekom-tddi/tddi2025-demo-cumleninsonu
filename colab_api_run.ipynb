{
 "cells": [
  {
   "cell_type": "markdown",
   "id": "e265287b",
   "metadata": {},
   "source": [
    "Clone the project from github"
   ]
  },
  {
   "cell_type": "code",
   "execution_count": null,
   "id": "ecc60311",
   "metadata": {
    "vscode": {
     "languageId": "plaintext"
    }
   },
   "outputs": [],
   "source": [
    "!git clone https://github.com/telekom-tddi/tddi2025-demo-cumleninsonu.git"
   ]
  },
  {
   "cell_type": "markdown",
   "id": "82e73955",
   "metadata": {},
   "source": [
    "Install requirements and ffmpeg for openai-whisper library"
   ]
  },
  {
   "cell_type": "code",
   "execution_count": null,
   "id": "4f9700e7",
   "metadata": {
    "vscode": {
     "languageId": "plaintext"
    }
   },
   "outputs": [],
   "source": [
    "!cd ./tddi2025-demo-cumleninsonu && pip3.11 install -r requirements.txt\n",
    "!sudo apt update && sudo apt install ffmpeg"
   ]
  },
  {
   "cell_type": "markdown",
   "id": "8487938c",
   "metadata": {},
   "source": [
    "Import the necessary environment variables"
   ]
  },
  {
   "cell_type": "code",
   "execution_count": null,
   "id": "3fc0a5f9",
   "metadata": {
    "vscode": {
     "languageId": "plaintext"
    }
   },
   "outputs": [],
   "source": [
    "import os\n",
    "from google.colab import userdata\n",
    "\n",
    "# Set Hugging Face token for model access\n",
    "os.environ[\"HUGGINGFACE_TOKEN\"] = userdata.get('HUGGINGFACE_TOKEN')\n",
    "\n",
    "# Set ngrok authtoken for stable tunneling (recommended)\n",
    "os.environ[\"NGROK_AUTHTOKEN\"] = userdata.get('NGROK_AUTHTOKEN')\n",
    "\n",
    "os.environ[\"API_HOST\"] = userdata.get('API_HOST')\n",
    "os.environ[\"API_USAGE\"] = userdata.get('API_USAGE') \n",
    "os.environ[\"GOOGLE_GENAI_API_KEY\"] = userdata.get('GOOGLE_GENAI_API_KEY')"
   ]
  },
  {
   "cell_type": "markdown",
   "id": "09c0a8a1",
   "metadata": {},
   "source": [
    "Run the project"
   ]
  },
  {
   "cell_type": "code",
   "execution_count": null,
   "id": "0313df40",
   "metadata": {
    "vscode": {
     "languageId": "plaintext"
    }
   },
   "outputs": [],
   "source": [
    "!cd tddi2025-demo-cumleninsonu/ && python -m src.api.call_center_api"
   ]
  }
 ],
 "metadata": {
  "language_info": {
   "name": "python"
  }
 },
 "nbformat": 4,
 "nbformat_minor": 5
}
